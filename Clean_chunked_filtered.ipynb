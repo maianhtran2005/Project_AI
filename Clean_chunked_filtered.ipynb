{
  "nbformat": 4,
  "nbformat_minor": 0,
  "metadata": {
    "colab": {
      "provenance": [],
      "authorship_tag": "ABX9TyPhhzWgkJACDntGCsMgGuLI",
      "include_colab_link": true
    },
    "kernelspec": {
      "name": "python3",
      "display_name": "Python 3"
    },
    "language_info": {
      "name": "python"
    }
  },
  "cells": [
    {
      "cell_type": "markdown",
      "metadata": {
        "id": "view-in-github",
        "colab_type": "text"
      },
      "source": [
        "<a href=\"https://colab.research.google.com/github/maianhtran2005/Project_AI/blob/main/Clean_chunked_filtered.ipynb\" target=\"_parent\"><img src=\"https://colab.research.google.com/assets/colab-badge.svg\" alt=\"Open In Colab\"/></a>"
      ]
    },
    {
      "cell_type": "code",
      "execution_count": 7,
      "metadata": {
        "colab": {
          "base_uri": "https://localhost:8080/"
        },
        "id": "4bu58nAn-S20",
        "outputId": "6041b9aa-b39b-427c-ec98-a8c86f772810"
      },
      "outputs": [
        {
          "output_type": "stream",
          "name": "stdout",
          "text": [
            "Drive already mounted at /content/drive; to attempt to forcibly remount, call drive.mount(\"/content/drive\", force_remount=True).\n",
            "Số mẫu ban đầu: 6275\n",
            "                                              prompt  \\\n",
            "0  Summarize the following article:\\n\\nBy . Antho...   \n",
            "1  Summarize the following article:\\n\\nthem, we u...   \n",
            "2  Summarize the following article:\\n\\nUNITED NAT...   \n",
            "3  Summarize the following article:\\n\\neconomic d...   \n",
            "4  Summarize the following article:\\n\\nfore, pose...   \n",
            "\n",
            "                                          completion  \n",
            "0   John and . Audrey Cook were discovered alongs...  \n",
            "1   John and . Audrey Cook were discovered alongs...  \n",
            "2   NEW: Libya can serve as example of cooperatio...  \n",
            "3   NEW: Libya can serve as example of cooperatio...  \n",
            "4   NEW: Libya can serve as example of cooperatio...  \n",
            "Sau khi làm sạch: 6275\n",
            "Sau khi chunk: 6501\n"
          ]
        }
      ],
      "source": [
        "# 1. Mount Google Drive\n",
        "from google.colab import drive\n",
        "drive.mount('/content/drive')\n",
        "\n",
        "import pandas as pd\n",
        "import re\n",
        "import matplotlib.pyplot as plt\n",
        "from sklearn.model_selection import train_test_split\n",
        "\n",
        "# 2. Đọc file JSONL\n",
        "path = \"/content/drive/MyDrive/AI/data_completion.jsonl\"\n",
        "df = pd.read_json(path, lines=True)\n",
        "print(\"Số mẫu ban đầu:\", len(df))\n",
        "print(df.head())\n",
        "\n",
        "# 3. Làm sạch text\n",
        "def clean_text(s):\n",
        "    if not isinstance(s, str):\n",
        "        return \"\"\n",
        "    s = s.strip()\n",
        "    s = re.sub(r\"\\s+\", \" \", s)\n",
        "    return s\n",
        "\n",
        "df[\"prompt\"] = df[\"prompt\"].apply(clean_text)\n",
        "df[\"completion\"] = df[\"completion\"].apply(clean_text)\n",
        "\n",
        "# Bỏ dòng lỗi\n",
        "df = df[df[\"completion\"] != \"\"]\n",
        "df = df.drop_duplicates(subset=[\"prompt\", \"completion\"])\n",
        "print(\"Sau khi làm sạch:\", len(df))\n",
        "\n",
        "# 4. Chunk completion nếu quá dài\n",
        "def chunk_completion(row, max_len=512):\n",
        "    prompt, comp = row[\"prompt\"], row[\"completion\"]\n",
        "    chunks = []\n",
        "    if len(comp) > max_len:\n",
        "        for i in range(0, len(comp), max_len):\n",
        "            comp_chunk = comp[i:i+max_len]\n",
        "            chunks.append({\"prompt\": prompt, \"completion\": comp_chunk})\n",
        "    else:\n",
        "        chunks.append({\"prompt\": prompt, \"completion\": comp})\n",
        "    return chunks\n",
        "\n",
        "rows = []\n",
        "for _, row in df.iterrows():\n",
        "    rows.extend(chunk_completion(row))\n",
        "\n",
        "df = pd.DataFrame(rows)\n",
        "print(\"Sau khi chunk:\", len(df))\n"
      ]
    },
    {
      "cell_type": "code",
      "source": [
        "# 5. Thêm cột độ dài\n",
        "df[\"prompt_len\"] = df[\"prompt\"].str.len()\n",
        "df[\"completion_len\"] = df[\"completion\"].str.len()\n",
        "\n",
        "# 6. Lọc outlier theo percentile (giữ dưới 95th percentile)\n",
        "prompt_p95 = df[\"prompt_len\"].quantile(0.95)\n",
        "comp_p95 = df[\"completion_len\"].quantile(0.95)\n",
        "\n",
        "df = df[(df[\"prompt_len\"] <= prompt_p95) & (df[\"completion_len\"] <= comp_p95)]\n",
        "print(f\"Ngưỡng cắt: prompt ≤ {prompt_p95}, completion ≤ {comp_p95}\")\n",
        "print(\"Sau khi lọc outlier:\", len(df))\n",
        "\n",
        "# 7. Visual lại để kiểm tra\n",
        "plt.hist(df[\"prompt_len\"], bins=50, alpha=0.7)\n",
        "plt.title(\"Prompt length after filtering\")\n",
        "plt.show()\n",
        "\n",
        "plt.hist(df[\"completion_len\"], bins=50, alpha=0.7, color=\"orange\")\n",
        "plt.title(\"Completion length after filtering\")\n",
        "plt.show()\n",
        "\n",
        "# 8. Chia train/val\n",
        "train_df, val_df = train_test_split(df, test_size=0.1, random_state=42)\n",
        "\n",
        "# 9. Lưu JSONL\n",
        "def save_jsonl(df, filename):\n",
        "    with open(filename, \"w\", encoding=\"utf-8\") as f:\n",
        "        for _, row in df.iterrows():\n",
        "            f.write(pd.Series(row[[\"prompt\",\"completion\"]]).to_json(force_ascii=False))\n",
        "            f.write(\"\\n\")\n",
        "\n",
        "save_jsonl(train_df, \"/content/drive/MyDrive/AI/train_clean_chunked_filtered.jsonl\")\n",
        "save_jsonl(val_df, \"/content/drive/MyDrive/AI/val_clean_chunked_filtered.jsonl\")\n",
        "\n"
      ],
      "metadata": {
        "colab": {
          "base_uri": "https://localhost:8080/",
          "height": 922
        },
        "id": "Ufg-xQl--vuj",
        "outputId": "65a25f44-d3c4-4892-db7b-c96f8c2d030b"
      },
      "execution_count": 8,
      "outputs": [
        {
          "output_type": "stream",
          "name": "stdout",
          "text": [
            "Ngưỡng cắt: prompt ≤ 3042.0, completion ≤ 471.0\n",
            "Sau khi lọc outlier: 6184\n"
          ]
        },
        {
          "output_type": "display_data",
          "data": {
            "text/plain": [
              "<Figure size 640x480 with 1 Axes>"
            ],
            "image/png": "[encoded data removed]"
          },
          "metadata": {}
        },
        {
          "output_type": "display_data",
          "data": {
            "text/plain": [
              "<Figure size 640x480 with 1 Axes>"
            ],
            "image/png": "[encoded data removed]"
          },
          "metadata": {}
        }
      ]
    },
    {
      "cell_type": "code",
      "source": [
        "import pandas as pd\n",
        "\n",
        "# Đọc file train/val đã clean\n",
        "train_path = \"/content/drive/MyDrive/AI/train_clean_chunked_filtered.jsonl\"\n",
        "val_path = \"/content/drive/MyDrive/AI/val_clean_chunked_filtered.jsonl\"\n",
        "\n",
        "train_df = pd.read_json(train_path, lines=True)\n",
        "val_df = pd.read_json(val_path, lines=True)\n",
        "\n",
        "print(\"Số mẫu Train:\", len(train_df))\n",
        "print(\"Số mẫu Val:\", len(val_df))\n",
        "\n",
        "# Kiểm tra null/trống\n",
        "print(\"Train null:\", train_df.isnull().sum().to_dict())\n",
        "print(\"Val null:\", val_df.isnull().sum().to_dict())\n",
        "\n",
        "# Kiểm tra completion ngắn\n",
        "train_df[\"completion_len\"] = train_df[\"completion\"].str.len()\n",
        "val_df[\"completion_len\"] = val_df[\"completion\"].str.len()\n",
        "\n",
        "print(\"Min completion len (train):\", train_df[\"completion_len\"].min())\n",
        "print(\"Min completion len (val):\", val_df[\"completion_len\"].min())\n",
        "\n",
        "# Thống kê phân phối độ dài\n",
        "print(train_df[\"completion_len\"].describe(percentiles=[0.9, 0.95, 0.99]))\n",
        "print(val_df[\"completion_len\"].describe(percentiles=[0.9, 0.95, 0.99]))\n",
        "\n",
        "# Xem vài mẫu dữ liệu\n",
        "print(train_df.sample(3))"
      ],
      "metadata": {
        "colab": {
          "base_uri": "https://localhost:8080/"
        },
        "id": "lf8IWvpl-wq9",
        "outputId": "043ffa44-b03b-4b17-d90b-6e8d737db426"
      },
      "execution_count": 9,
      "outputs": [
        {
          "output_type": "stream",
          "name": "stdout",
          "text": [
            "Số mẫu Train: 5565\n",
            "Số mẫu Val: 619\n",
            "Train null: {'prompt': 0, 'completion': 0}\n",
            "Val null: {'prompt': 0, 'completion': 0}\n",
            "Min completion len (train): 1\n",
            "Min completion len (val): 3\n",
            "count    5565.000000\n",
            "mean      185.652111\n",
            "std       126.557894\n",
            "min         1.000000\n",
            "50%       195.000000\n",
            "90%       358.000000\n",
            "95%       404.000000\n",
            "99%       455.000000\n",
            "max       471.000000\n",
            "Name: completion_len, dtype: float64\n",
            "count    619.000000\n",
            "mean     179.466882\n",
            "std      120.388799\n",
            "min        3.000000\n",
            "50%      195.000000\n",
            "90%      340.000000\n",
            "95%      379.300000\n",
            "99%      453.280000\n",
            "max      471.000000\n",
            "Name: completion_len, dtype: float64\n",
            "                                                 prompt  \\\n",
            "2554  Summarize the following article: (CNN) -- Roma...   \n",
            "5497  Summarize the following article: o represent a...   \n",
            "1978  Summarize the following article: on the proper...   \n",
            "\n",
            "                                             completion  completion_len  \n",
            "2554  Roma move up to sixth place in the Serie A tab...             280  \n",
            "5497  NEW: Heavy, sustained gunfire is heard in the ...             263  \n",
            "1978  Two cadaver dogs each show interest in the sam...             283  \n"
          ]
        }
      ]
    }
  ]
}